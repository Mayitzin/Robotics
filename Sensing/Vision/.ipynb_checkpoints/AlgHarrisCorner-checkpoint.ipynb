{
 "cells": [
  {
   "cell_type": "markdown",
   "metadata": {},
   "source": [
    "# Harris Corner Detector\n",
    "\n",
    "This file will show the implementation step-by-step of the **Harris Corner Detector** algorithm as presented by C. Harris and M.J. Stephens in 1988.\n",
    "\n",
    "The natural way would be to use better and optimized libraries that take care of it, e.g. [OpenCV](http://opencv-python-tutroals.readthedocs.org/en/latest/py_tutorials/py_feature2d/py_features_harris/py_features_harris.html) or [scikit-image](http://scikit-image.org/docs/dev/auto_examples/plot_corner.html). Sure, we can do it for any real application, but the purpose of this notebook is purely didactic and intends to show each step of the famous feature detector.\n",
    "\n",
    "The **Harris Corner detector** was proposed by Chris Harris and Mike Stephens in 1988 as a method to obtain the feature points (corners) of a grayscale image. Their idea is based on the [Moravec's Corner detector](https://en.wikipedia.org/wiki/Corner_detection#The_Moravec_corner_detection_algorithm \"Moravec's Corner Detector\"), which uses the change of intensity around the neighboring area of a pixel.\n",
    "\n",
    "Wolfgang Förstner initially proposed a [similar method](https://en.wikipedia.org/wiki/Corner_detection#The_F.C3.B6rstner_corner_detector \"Förstner Corner detector\") in 1986 based also on Moravec's corner detector, known as the Förstner detector. He used the eigenvalues of this change of intensity (iso-responses), so that the corner detector could be insensitive to rotational and translational changes.\n",
    "\n",
    "Harris and Stephens, however, proposed a simplified version of it by using a simple function computing the same _cornerness_ of such Image gradients, which is used in this notebook.\n",
    "\n",
    "I will also try to follow the original notation used in the [original article](http://www.bmva.org/bmvc/1988/avc-88-023.pdf) from Harris and Stephens. This way you can also follow the paper and the process here presented. See the references at the end of the notebook.\n",
    "\n",
    "For this breakdown of the algorithm we need three main libraries of Python:\n",
    "\n",
    "* [Matplotlib](http://matplotlib.org/) for reading and showing the processed image.\n",
    "* [Scipy](http://www.scipy.org/) for the step-wise process altering the image until we get the festure points.\n",
    "* [Numpy](http://www.numpy.org/) for some mathematical operations.\n",
    "\n",
    "And, because I want to show inline plots, let's use the magic command `%matplotlib inline` and make it possible."
   ]
  },
  {
   "cell_type": "code",
   "execution_count": 1,
   "metadata": {
    "collapsed": false
   },
   "outputs": [],
   "source": [
    "%matplotlib inline"
   ]
  },
  {
   "cell_type": "markdown",
   "metadata": {},
   "source": [
    "## 256 Shades of Gray\n",
    "\n",
    "We must remember that this algorithm to detect the feature points works, as in most Computer Vision applications, in [grayscale](https://en.wikipedia.org/wiki/Grayscale). Our first step after loading the image is then to [convert it to grayscale](https://en.wikipedia.org/wiki/Grayscale#Converting_color_to_grayscale) using the combined intensities of the three channels (in case our image is given in RGB space) without worrying about any gamma correction."
   ]
  },
  {
   "cell_type": "code",
   "execution_count": 2,
   "metadata": {
    "collapsed": false
   },
   "outputs": [
    {
     "data": {
      "text/plain": [
       "(-0.5, 255.5, 255.5, -0.5)"
      ]
     },
     "execution_count": 2,
     "metadata": {},
     "output_type": "execute_result"
    },
    {
     "data": {
      "image/png": "[encoded data removed]",
      "text/plain": [
       "<matplotlib.figure.Figure at 0xac67320>"
      ]
     },
     "metadata": {},
     "output_type": "display_data"
    }
   ],
   "source": [
    "import matplotlib.pyplot as plt\n",
    "import matplotlib.image as mpimg\n",
    "import scipy.ndimage as scimg\n",
    "import numpy as np\n",
    "\n",
    "# Read the image (Windows)\n",
    "im = mpimg.imread(r'..\\..\\Data\\harris.png')\n",
    "m, n, C = np.shape(im)\n",
    "# If has 3 or more color channels convert to grayscale\n",
    "if C >= 3:\n",
    "    r, g, b = im[:,:,0], im[:,:,1], im[:,:,2]\n",
    "    im = 0.2126*r + 0.7152*g + 0.0722*b\n",
    "\n",
    "# Show the transformed image in grayscale\n",
    "plt.imshow(im, cmap='gray')\n",
    "plt.axis('off')"
   ]
  },
  {
   "cell_type": "markdown",
   "metadata": {},
   "source": [
    "## The Image gradients\n",
    "\n",
    "The next step is the part of the differentiation. Harris and Stephens propose to [convolve](http://www.songho.ca/dsp/convolution/convolution2d_example.html) a simple linear mask of three elements to obtain the [image gradients](https://en.wikipedia.org/wiki/Image_gradient), as a one-dimensional element of the separable [Prewitt operators](https://en.wikipedia.org/wiki/Prewitt_operator) or even [Sobel operators](https://en.wikipedia.org/wiki/Sobel_operator).\n",
    "\n",
    "This is a very simple approximation of Harris and Stephens to obtain the change of intensity (levels of gray) for every pixel along each axis, which they define as:\n",
    "\n",
    "$$X = I \\otimes \\begin{pmatrix}-1 & 0 & 1\\end{pmatrix} \\approx \\frac{\\partial I}{\\partial x}$$\n",
    "\n",
    "$$Y = I \\otimes \\begin{pmatrix}-1 & 0 & 1\\end{pmatrix}^T \\approx \\frac{\\partial I}{\\partial y}$$\n",
    "\n",
    "These gradients must be obtained for both orientations along the X- and Y-axis. Thanks to the [separability](http://www.dspguide.com/ch24/3.htm) of these filters one simple _derivative filter_ array (df) can be used, and we just indicate the direction of the gradient in the function.\n",
    "\n",
    "So, instead of convolving the image with a 3x3 array (some people call this filtering array a _mask_, a _filter_, a _kernel_ or a _window_), we can convolve the image with a 3x1 (or 1x3) array twice, reducing the [number of operations](http://blogs.mathworks.com/steve/2006/10/04/separable-convolution/#7).\n",
    "\n",
    "$$\\nabla I = X + Y = \\frac{\\partial I}{\\partial x} + \\frac{\\partial I}{\\partial y}$$\n",
    "\n",
    "This is called a [Laplacian operator](https://en.wikipedia.org/wiki/Discrete_Laplace_operator), because corresponds to the derivatives of the given function (image).\n",
    "\n",
    "Remember the axes are inverted in Computer Vision, so that the first one is always considered to be the Y-axis, while the second one is the X-axis. It is easily noticed in the 'axis' property of the function."
   ]
  },
  {
   "cell_type": "code",
   "execution_count": 3,
   "metadata": {
    "collapsed": false
   },
   "outputs": [
    {
     "data": {
      "text/plain": [
       "(-0.5, 255.5, 255.5, -0.5)"
      ]
     },
     "execution_count": 3,
     "metadata": {},
     "output_type": "execute_result"
    },
    {
     "data": {
      "image/png": "[encoded data removed]",
      "text/plain": [
       "<matplotlib.figure.Figure at 0xac60358>"
      ]
     },
     "metadata": {},
     "output_type": "display_data"
    }
   ],
   "source": [
    "# Convolve Image with derivative filter array.\n",
    "df = np.array([-1.0, 0.0, 1.0])\n",
    "Gx = scimg.filters.convolve1d(im, df, axis=1)   # Gradient along X-axis\n",
    "Gy = scimg.filters.convolve1d(im, df, axis=0)   # Gradient along Y-axis\n",
    "\n",
    "# Show the Image Gradients next to each other\n",
    "plt.subplot(1,2,1)\n",
    "plt.imshow(Gx, cmap='gray')\n",
    "plt.title('Gradient along X-axis')\n",
    "plt.axis('off')\n",
    "plt.subplot(1,2,2)\n",
    "plt.imshow(Gy, cmap='gray')\n",
    "plt.title('Gradient along Y-axis')\n",
    "plt.axis('off')"
   ]
  },
  {
   "cell_type": "markdown",
   "metadata": {},
   "source": [
    "There we can see that the image returns a \"black\" pixel (negative value) when it moves from a dark pixel to a lighter pixel, and viceversa. The gray pixels correspond to areas where there is no change in intensity (response is equal to zero).\n",
    "\n",
    "Alternative (and more effective) methods can be used for the linear differentiation of the image.\n",
    "\n",
    "```python\n",
    "Gx = scimg.filters.gaussian_filter1d(im, 1.0, axis=1, order=1)\n",
    "Gy = scimg.filters.gaussian_filter1d(im, 1.0, axis=0, order=1)\n",
    "```\n",
    "\n",
    "The [Laplacian of Gaussian](http://homepages.inf.ed.ac.uk/rbf/HIPR2/log.htm) (LoG) operator has the great advantage of denoising the image and computing the derivative at the same time. The natural way to do that is to first [blur the image with a Gaussian filter](https://en.wikipedia.org/wiki/Gaussian_blur), and then finding the gradients with the Laplacian operator. But the LoG operator is the convolution of both and we can do these operations at once saving us computation.\n",
    "\n",
    "The function `gaussian_filter1d` takes the processing image and the variance of the gaussian as inputs. Additionally you can specify the direction (axis) and the order of the derivative. In this case we set it to 1, equivalent to the first derivative of the Gaussian (Laplacian of Gaussian)."
   ]
  },
  {
   "cell_type": "markdown",
   "metadata": {},
   "source": [
    "## References\n",
    "\n",
    "[[1](http://citeseerx.ist.psu.edu/viewdoc/summary?doi=10.1.1.231.1604 \"Harris Corner Detector\")]. C. Harris and M. Stephens. _A combined corner and edge detector_. Proc. of Fourth Alvey Vision Conference. 1998.\n",
    "\n",
    "[[2](http://homepages.inf.ed.ac.uk/rbf/HIPR2/convolve.htm \"Convolution of a 2D array\")]. R. Fisher, S. Perkins, A. Walker and E. Wolfart. _Discrete Convolution_. 2003.\n",
    "\n",
    "[[3](http://homepages.inf.ed.ac.uk/rbf/HIPR2/log.htm)]. R. Fisher, S. Perkins, A. Walker and E. Wolfart. _Laplacian/Laplacian of Gaussians_. 2003.\n",
    "\n",
    "[[4](http://szeliski.org/Book)] Szeliski, R. _Computer Vision: Algorithms and Applications_. Springer, pages 212-214. 2010."
   ]
  }
 ],
 "metadata": {
  "kernelspec": {
   "display_name": "Python 2",
   "language": "python",
   "name": "python2"
  },
  "language_info": {
   "codemirror_mode": {
    "name": "ipython",
    "version": 2
   },
   "file_extension": ".py",
   "mimetype": "text/x-python",
   "name": "python",
   "nbconvert_exporter": "python",
   "pygments_lexer": "ipython2",
   "version": "2.7.10"
  }
 },
 "nbformat": 4,
 "nbformat_minor": 0
}
