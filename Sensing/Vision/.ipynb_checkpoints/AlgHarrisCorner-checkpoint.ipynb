{
 "cells": [
  {
   "cell_type": "markdown",
   "metadata": {},
   "source": [
    "# Harris Corner Detector\n",
    "\n",
    "This file will show the implementation step-by-step of the **Harris Corner Detector** algorithm as presented by C. Harris and M.J. Stephens in 1988.\n",
    "\n",
    "The natural way would be to use better and optimized libraries that take care of it, e.g. [OpenCV](http://opencv-python-tutroals.readthedocs.org/en/latest/py_tutorials/py_feature2d/py_features_harris/py_features_harris.html) or [scikit-image](http://scikit-image.org/docs/dev/auto_examples/plot_corner.html). Sure, we can do it for any real application, but the purpose of this notebook is purely didactic and intends to show each step of the famous feature detector.\n",
    "\n",
    "The **Harris Corner detector** was proposed by Chris Harris and Mike Stephens in 1988 as a method to obtain the feature points (corners) of a grayscale image. Their idea is based on the [Moravec's Corner detector](https://en.wikipedia.org/wiki/Corner_detection#The_Moravec_corner_detection_algorithm \"Moravec's Corner Detector\"), which uses the change of intensity around the neighboring area of a pixel.\n",
    "\n",
    "Wolfgang Förstner initially proposed a [similar method](https://en.wikipedia.org/wiki/Corner_detection#The_F.C3.B6rstner_corner_detector \"Förstner Corner detector\") in 1986 based also on Moravec's corner detector, known as the Förstner detector. He used the eigenvalues of this change of intensity (iso-responses), so that the corner detector could be insensitive to rotational and translational changes.\n",
    "\n",
    "Harris and Stephens, however, proposed a simplified version of it by using a simple function computing the same _cornerness_ of such Image gradients, which is used in this notebook.\n",
    "\n",
    "I will also try to follow the original notation used in the [original article](http://www.bmva.org/bmvc/1988/avc-88-023.pdf) from Harris and Stephens. This way you can also follow the paper and the process here presented. See the references at the end of the notebook.\n",
    "\n",
    "For this breakdown of the algorithm we need three main libraries of Python:\n",
    "\n",
    "* [Matplotlib](http://matplotlib.org/) for reading and showing the processed image.\n",
    "* [Scipy](http://www.scipy.org/) for the step-wise process altering the image until we get the festure points.\n",
    "* [Numpy](http://www.numpy.org/) for some mathematical operations.\n",
    "\n",
    "And, because I want to show inline plots, let's use the magic command `%matplotlib inline` and make it possible."
   ]
  },
  {
   "cell_type": "code",
   "execution_count": 1,
   "metadata": {
    "collapsed": false
   },
   "outputs": [],
   "source": [
    "%matplotlib inline"
   ]
  },
  {
   "cell_type": "markdown",
   "metadata": {},
   "source": [
    "## 256 Shades of Gray\n",
    "\n",
    "We must remember that this algorithm to detect the feature points works, as in most Computer Vision applications, in [grayscale](https://en.wikipedia.org/wiki/Grayscale). Our first step after loading the image is then to [convert it to grayscale](https://en.wikipedia.org/wiki/Grayscale#Converting_color_to_grayscale) using the combined intensities of the three channels (in case our image is given in RGB space) without worrying about any gamma correction."
   ]
  },
  {
   "cell_type": "code",
   "execution_count": 2,
   "metadata": {
    "collapsed": false
   },
   "outputs": [
    {
     "data": {
      "text/plain": [
       "(-0.5, 255.5, 255.5, -0.5)"
      ]
     },
     "execution_count": 2,
     "metadata": {},
     "output_type": "execute_result"
    },
    {
     "data": {
      "image/png": "[encoded data removed]",
      "text/plain": [
       "<matplotlib.figure.Figure at 0xa6593c8>"
      ]
     },
     "metadata": {},
     "output_type": "display_data"
    }
   ],
   "source": [
    "import matplotlib.pyplot as plt\n",
    "import matplotlib.image as mpimg\n",
    "import scipy.ndimage as scimg\n",
    "import numpy as np\n",
    "\n",
    "# Read the image (Windows) and obtain its dimensions\n",
    "im = mpimg.imread(r'..\\..\\Data\\harris.png')\n",
    "m, n, C = np.shape(im)\n",
    "# If has 3 or more color channels convert to grayscale\n",
    "if C >= 3:\n",
    "    r, g, b = im[:,:,0], im[:,:,1], im[:,:,2]\n",
    "    im = 0.2126*r + 0.7152*g + 0.0722*b\n",
    "\n",
    "# Show the image in grayscale\n",
    "plt.imshow(im, cmap='gray')\n",
    "plt.axis('off')"
   ]
  },
  {
   "cell_type": "markdown",
   "metadata": {},
   "source": [
    "## The Image gradients\n",
    "\n",
    "The next step is the part of the differentiation. Harris and Stephens propose to [convolve](http://www.songho.ca/dsp/convolution/convolution2d_example.html) a simple linear mask of three elements to obtain the [image gradients](https://en.wikipedia.org/wiki/Image_gradient), as a one-dimensional element of the separable [Prewitt operators](https://en.wikipedia.org/wiki/Prewitt_operator) or even [Sobel operators](https://en.wikipedia.org/wiki/Sobel_operator).\n",
    "\n",
    "This is a very simple approximation of Harris and Stephens to obtain the change of intensity (levels of gray) for every pixel along each axis, which they define as:\n",
    "\n",
    "$$X = I \\otimes \\begin{pmatrix}-1 & 0 & 1\\end{pmatrix} \\approx \\frac{\\partial I}{\\partial x}$$\n",
    "\n",
    "$$Y = I \\otimes \\begin{pmatrix}-1 & 0 & 1\\end{pmatrix}^T \\approx \\frac{\\partial I}{\\partial y}$$\n",
    "\n",
    "These gradients must be obtained for both orientations along the X- and Y-axis. Thanks to the [separability](http://www.dspguide.com/ch24/3.htm) of these filters one simple _derivative filter_ array (df) can be used, and we just indicate the direction of the gradient in the function.\n",
    "\n",
    "So, instead of convolving the image with a 3x3 array (some people call this filtering array a _mask_, a _filter_, a _kernel_ or a _window_), we can convolve the image with a 3x1 (or 1x3) array twice, reducing the [number of operations](http://blogs.mathworks.com/steve/2006/10/04/separable-convolution/#7).\n",
    "\n",
    "$$\\nabla I = X + Y = \\frac{\\partial I}{\\partial x} + \\frac{\\partial I}{\\partial y}$$\n",
    "\n",
    "This is called a [Laplacian operator](https://en.wikipedia.org/wiki/Discrete_Laplace_operator), because corresponds to the derivatives of the given function (image).\n",
    "\n",
    "Remember the axes are inverted in Computer Vision, so that the first one is always considered to be the Y-axis, while the second one is the X-axis. It is easily noticed in the 'axis' property of the function."
   ]
  },
  {
   "cell_type": "code",
   "execution_count": 3,
   "metadata": {
    "collapsed": false
   },
   "outputs": [
    {
     "data": {
      "text/plain": [
       "(-0.5, 255.5, 255.5, -0.5)"
      ]
     },
     "execution_count": 3,
     "metadata": {},
     "output_type": "execute_result"
    },
    {
     "data": {
      "image/png": "[encoded data removed]",
      "text/plain": [
       "<matplotlib.figure.Figure at 0xa535320>"
      ]
     },
     "metadata": {},
     "output_type": "display_data"
    }
   ],
   "source": [
    "# Convolve Image with derivative filter array.\n",
    "df = np.array([-1.0, 0.0, 1.0])\n",
    "X = scimg.filters.convolve1d(im, df, axis=1)   # Gradient along X-axis\n",
    "Y = scimg.filters.convolve1d(im, df, axis=0)   # Gradient along Y-axis\n",
    "\n",
    "# Show the Image Gradients next to each other\n",
    "plt.subplot(1,2,1)\n",
    "plt.imshow(X, cmap='gray')\n",
    "plt.title('Gradient along X-axis')\n",
    "plt.axis('off')\n",
    "plt.subplot(1,2,2)\n",
    "plt.imshow(Y, cmap='gray')\n",
    "plt.title('Gradient along Y-axis')\n",
    "plt.axis('off')"
   ]
  },
  {
   "cell_type": "markdown",
   "metadata": {},
   "source": [
    "There we can see that the image returns a \"black\" pixel (negative value) when it moves from a dark pixel to a lighter pixel, and viceversa. The gray pixels correspond to areas where there is no change in intensity (response is equal to zero).\n",
    "\n",
    "Alternative (and more effective) methods can be used for the linear differentiation of the image.\n",
    "\n",
    "```python\n",
    "X = scimg.filters.gaussian_filter1d(im, 1.0, axis=1, order=1)\n",
    "Y = scimg.filters.gaussian_filter1d(im, 1.0, axis=0, order=1)\n",
    "```\n",
    "\n",
    "The [Laplacian of Gaussian](http://homepages.inf.ed.ac.uk/rbf/HIPR2/log.htm) (LoG) operator has the great advantage of denoising the image and computing the derivative at the same time. The natural way to do that is to first [blur the image with a Gaussian filter](https://en.wikipedia.org/wiki/Gaussian_blur), and then finding the gradients with the Laplacian operator. But the LoG operator is the convolution of both and we can do these operations at once saving us computation.\n",
    "\n",
    "The function `gaussian_filter1d` takes the processing image and the variance of the gaussian as inputs. Additionally you can specify the direction (axis) and the order of the derivative.\n",
    "\n",
    "## Second Moment Matrix\n",
    "\n",
    "One of the innovations of the Harris Corner detector lies on its ability to detect corners even at rotated images, and this is done thanks to the **Second Moment** or the **Autocorrelation** matrix.\n",
    "\n",
    "Such matrix is built as:\n",
    "\n",
    "$$M = \\begin{pmatrix}A & C \\\\ C & B\\end{pmatrix}$$\n",
    "\n",
    "where:\n",
    "\n",
    "$$A = X^2 \\otimes w$$\n",
    "\n",
    "$$B = Y^2 \\otimes w$$\n",
    "\n",
    "$$C = (XY) \\otimes w$$\n",
    "\n",
    "and $w$ _specifies the image window: it is unity within a specified rectangular region, and zero elsewhere_. Although Harris and Stephens use a simple binary window (an array with only ones and zeros), its result changes drastically form image to image. Therefore we will use a simple gaussian with $\\sigma=1$."
   ]
  },
  {
   "cell_type": "code",
   "execution_count": 4,
   "metadata": {
    "collapsed": true
   },
   "outputs": [],
   "source": [
    "# Outer products of Gradients\n",
    "A = scimg.filters.gaussian_filter1d(X**2, 1.0, order=0)\n",
    "B = scimg.filters.gaussian_filter1d(Y**2, 1.0, order=0)\n",
    "C = scimg.filters.gaussian_filter1d(X*Y, 1.0, order=0)"
   ]
  },
  {
   "cell_type": "markdown",
   "metadata": {},
   "source": [
    "After creating the elements of the Second Moment Matrix, we have to decide now the values that will definitely change the performance of the Corner detector.\n",
    "\n",
    "First is the innovation of the Harris Corner detector: the **response** function, which they define as:\n",
    "\n",
    "$$R = \\det (M) - k \\mathrm{tr}^2 (M)$$\n",
    "\n",
    "The main factor is the $k$, whose value is actually not specified by Harris and Stephens, but later authors set it between $0.06$ and $1.5$. We will set it around the middle to $0.1$. But you are totally free to explore its results with different values.\n",
    "\n",
    "If you apply this function to **each pixel** too, you will get another grayscaled image showing the response to a \"cornered\" area, where possible corners appear with higher intensity (white), whilst \"flat\" areas are gray, and edges are darker (black)."
   ]
  },
  {
   "cell_type": "code",
   "execution_count": 5,
   "metadata": {
    "collapsed": false
   },
   "outputs": [
    {
     "data": {
      "text/plain": [
       "(-0.5, 255.5, 255.5, -0.5)"
      ]
     },
     "execution_count": 5,
     "metadata": {},
     "output_type": "execute_result"
    },
    {
     "data": {
      "image/png": "[encoded data removed]",
      "text/plain": [
       "<matplotlib.figure.Figure at 0xa659208>"
      ]
     },
     "metadata": {},
     "output_type": "display_data"
    }
   ],
   "source": [
    "# Compute the Cornerness\n",
    "k = 0.1\n",
    "R = np.zeros((m,n))\n",
    "for y in range(m):\n",
    "    for x in range(n):\n",
    "        M = np.array([[A[y,x], C[y,x]], [C[y,x], B[y,x]]])  # Second Moment Matrix\n",
    "        R[y,x] = np.linalg.det(M) - k*np.trace(M)**2        # Response function\n",
    "\n",
    "# Plot the Response\n",
    "plt.imshow(R, cmap='gray')\n",
    "plt.colorbar()    # A colorbar showing the span of values in the image\n",
    "plt.title('Response (Cornerness)')\n",
    "plt.axis('off')"
   ]
  },
  {
   "cell_type": "markdown",
   "metadata": {},
   "source": [
    "In their paper they select the possible corners from the local maxima, but a previous step of thresholding has been suggested to avoid the undesired local maxima lying too low."
   ]
  },
  {
   "cell_type": "code",
   "execution_count": 6,
   "metadata": {
    "collapsed": false
   },
   "outputs": [
    {
     "data": {
      "text/plain": [
       "(-0.5, 255.5, 255.5, -0.5)"
      ]
     },
     "execution_count": 6,
     "metadata": {},
     "output_type": "execute_result"
    },
    {
     "data": {
      "image/png": "[encoded data removed]",
      "text/plain": [
       "<matplotlib.figure.Figure at 0xa535cc0>"
      ]
     },
     "metadata": {},
     "output_type": "display_data"
    }
   ],
   "source": [
    "# Threshold the Response\n",
    "t = 0.05\n",
    "R[R<t]=0.0\n",
    "\n",
    "# Plot the Thresholded Response\n",
    "R_plot = plt.imshow(R, cmap='gray')\n",
    "plt.colorbar(R_plot)\n",
    "plt.title('Thresholded result')\n",
    "plt.axis('off')"
   ]
  },
  {
   "cell_type": "markdown",
   "metadata": {},
   "source": [
    "Then the corner _is selected as a nominated corner pixel if its response is an 8-way local maximum_. That means, you may now apply a non-maxima suppresion and obtain only the peaks of these regions.\n",
    "\n",
    "This Non-maxima suppresion is based almost entirely in the method found in a [response from Stackoverflow](http://stackoverflow.com/questions/3684484/peak-detection-in-a-2d-array):"
   ]
  },
  {
   "cell_type": "code",
   "execution_count": 7,
   "metadata": {
    "collapsed": false
   },
   "outputs": [
    {
     "data": {
      "text/plain": [
       "(-50.0, 300.0, 300.0, -50.0)"
      ]
     },
     "execution_count": 7,
     "metadata": {},
     "output_type": "execute_result"
    },
    {
     "data": {
      "image/png": "[encoded data removed]",
      "text/plain": [
       "<matplotlib.figure.Figure at 0xa535a58>"
      ]
     },
     "metadata": {},
     "output_type": "display_data"
    }
   ],
   "source": [
    "# Non-maxima Supression\n",
    "area = scimg.morphology.generate_binary_structure(2,2)\n",
    "lmax = scimg.filters.maximum_filter(R, footprint=area)==R\n",
    "bg = (R==0)\n",
    "e_bg = scimg.morphology.binary_erosion(bg, structure=area, border_value=1)\n",
    "spots = lmax - e_bg\n",
    "peaks = np.nonzero(spots)  # Array with coordinates of Points\n",
    "\n",
    "# Plot the Image with the detected corners\n",
    "implot = plt.imshow(im, cmap='gray')\n",
    "p_plot = plt.plot(peaks[1], peaks[0], 'rx')\n",
    "plt.title('Detected Points')\n",
    "plt.axis('off')"
   ]
  },
  {
   "cell_type": "markdown",
   "metadata": {},
   "source": [
    "There you can see the detected corners. Now it is your turn to play with the parameters and techniques. Check the different results with different images.\n",
    "\n",
    "Optimize the process (many operations can be made with fewer cycles or operations). Try it.\n",
    "\n",
    "And of course, explore the several improved versions of the corner detector, like [Shi & Tomasi](http://opencv-python-tutroals.readthedocs.org/en/latest/py_tutorials/py_feature2d/py_shi_tomasi/py_shi_tomasi.html)'s variant using merely the minimum eigenvalue as response, or [Mikolajcyk's Harris Affine Corner detector](http://link.springer.com/article/10.1023%2FB%3AVISI.0000027790.02288.f2), which solves most of the problems you might have seen in the original Harris with a clever [Gaussian Pyramid](http://docs.opencv.org/doc/tutorials/imgproc/pyramids/pyramids.html) to select the best features.\n",
    "\n",
    "## References\n",
    "\n",
    "[[1](http://citeseerx.ist.psu.edu/viewdoc/summary?doi=10.1.1.231.1604 \"Harris Corner Detector\")]. C. Harris and M. Stephens. _A combined corner and edge detector_. Proc. of Fourth Alvey Vision Conference. 1998.\n",
    "\n",
    "[[2](http://homepages.inf.ed.ac.uk/rbf/HIPR2/convolve.htm \"Convolution of a 2D array\")]. R. Fisher, S. Perkins, A. Walker and E. Wolfart. _Discrete Convolution_. 2003.\n",
    "\n",
    "[[3](http://homepages.inf.ed.ac.uk/rbf/HIPR2/log.htm)]. R. Fisher, S. Perkins, A. Walker and E. Wolfart. _Laplacian/Laplacian of Gaussians_. 2003.\n",
    "\n",
    "[[4](http://szeliski.org/Book)]. Szeliski, R. _Computer Vision: Algorithms and Applications_. Springer, pages 212-214. 2010."
   ]
  }
 ],
 "metadata": {
  "kernelspec": {
   "display_name": "Python 2",
   "language": "python",
   "name": "python2"
  },
  "language_info": {
   "codemirror_mode": {
    "name": "ipython",
    "version": 2
   },
   "file_extension": ".py",
   "mimetype": "text/x-python",
   "name": "python",
   "nbconvert_exporter": "python",
   "pygments_lexer": "ipython2",
   "version": "2.7.10"
  }
 },
 "nbformat": 4,
 "nbformat_minor": 0
}
