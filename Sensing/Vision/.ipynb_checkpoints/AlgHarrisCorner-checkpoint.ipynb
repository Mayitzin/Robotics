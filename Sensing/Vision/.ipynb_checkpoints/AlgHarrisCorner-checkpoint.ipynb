{
 "metadata": {
  "name": ""
 },
 "nbformat": 3,
 "nbformat_minor": 0,
 "worksheets": [
  {
   "cells": [
    {
     "cell_type": "markdown",
     "metadata": {},
     "source": [
      "# Algorithm of Harris Corner Detector\n",
      "\n",
      "This file will show the implementation step-by-step of the **Harris Corner Detector** algorithm as presented by C. Harris and M.J. Stephens in 1988.\n",
      "\n",
      "The Harris Corner detector was proposed by Chris Harris and Mike Stephens in 1988 as a method to obtain the feature points of a grayscale image. Their idea is based on the [Moravec's Corner detector](https://en.wikipedia.org/wiki/Corner_detection#The_Moravec_corner_detection_algorithm \"Moravec's Corner Detector\"), which uses the change of intensity around the neighboring area of a pixel.\n",
      "\n",
      "Wolfgang F\u00f6rstner initially proposed a [similar method](https://en.wikipedia.org/wiki/Corner_detection#The_F.C3.B6rstner_corner_detector \"F\u00f6rstner Corner detector\") in 1986 based also on Moravec's corner detector, known as the F\u00f6rstner detector. He used the eigenvalues of this change of intensity (iso-responses), so that the corner detector could be insensitive to rotational and translational changes.\n",
      "\n",
      "Harris and Stephens, however, proposed a simplified version of it by using a simple function computing the same _**cornerness**_ of such Image gradients."
     ]
    },
    {
     "cell_type": "code",
     "collapsed": false,
     "input": [],
     "language": "python",
     "metadata": {},
     "outputs": []
    },
    {
     "cell_type": "markdown",
     "metadata": {},
     "source": [
      "## References\n",
      "\n",
      "[[1](http://citeseerx.ist.psu.edu/viewdoc/summary?doi=10.1.1.231.1604 \"Harris Corner Detector\")]. _C. Harris and M. Stephens_. A combined corner and edge detector. Proc. of Fourth Alvey Vision Conference. 1998."
     ]
    }
   ],
   "metadata": {}
  }
 ]
}