{
 "metadata": {
  "name": ""
 },
 "nbformat": 3,
 "nbformat_minor": 0,
 "worksheets": [
  {
   "cells": [
    {
     "cell_type": "markdown",
     "metadata": {},
     "source": [
      "**Algorithm of Harris Corner Detector**\n",
      "\n",
      "This file will show the implementation step-by-step of the _Harris Corner Detector_ algorithm as presented by C. Harris and M.J. Stephens in 1988."
     ]
    }
   ],
   "metadata": {}
  }
 ]
}