{
 "cells": [
  {
   "cell_type": "markdown",
   "metadata": {},
   "source": [
    "# Algorithm of Harris Corner Detector\n",
    "\n",
    "This file will show the implementation step-by-step of the **Harris Corner Detector** algorithm as presented by C. Harris and M.J. Stephens in 1988.\n",
    "\n",
    "The Harris Corner detector was proposed by Chris Harris and Mike Stephens in 1988 as a method to obtain the feature points (corners) of a grayscale image. Their idea is based on the [Moravec's Corner detector](https://en.wikipedia.org/wiki/Corner_detection#The_Moravec_corner_detection_algorithm \"Moravec's Corner Detector\"), which uses the change of intensity around the neighboring area of a pixel.\n",
    "\n",
    "Wolfgang Förstner initially proposed a [similar method](https://en.wikipedia.org/wiki/Corner_detection#The_F.C3.B6rstner_corner_detector \"Förstner Corner detector\") in 1986 based also on Moravec's corner detector, known as the Förstner detector. He used the eigenvalues of this change of intensity (iso-responses), so that the corner detector could be insensitive to rotational and translational changes.\n",
    "\n",
    "Harris and Stephens, however, proposed a simplified version of it by using a simple function computing the same _**cornerness**_ of such Image gradients, which is shown in this notebook.\n",
    "\n",
    "For this breakdown of the algorithm we need three main libraries of Python:\n",
    "\n",
    "* [Matplotlib](http://matplotlib.org/) for reading and showing the processed image.\n",
    "* [Scipy](http://www.scipy.org/) for the step-wise process altering the image until we get the festure points.\n",
    "* [Numpy](http://www.numpy.org/) for some mathematical operations.\n",
    "\n",
    "And, because I want to show inline plots, let's use the magic command `%matplotlib inline` and make it possible."
   ]
  },
  {
   "cell_type": "code",
   "execution_count": 1,
   "metadata": {
    "collapsed": false
   },
   "outputs": [],
   "source": [
    "%matplotlib inline"
   ]
  },
  {
   "cell_type": "markdown",
   "metadata": {},
   "source": [
    "## 256 Shades of Gray\n",
    "\n",
    "We must remember that this algorithm to detect the feature points works, as in most Computer Vision applications, in [grayscale](https://en.wikipedia.org/wiki/Grayscale). Our first step after loading the image is then to [convert it to grayscale](https://en.wikipedia.org/wiki/Grayscale#Converting_color_to_grayscale) using the combined intensities of the three channels (in case our image is given in RGB space) without worrying about any gamma correction."
   ]
  },
  {
   "cell_type": "code",
   "execution_count": 2,
   "metadata": {
    "collapsed": false
   },
   "outputs": [
    {
     "data": {
      "text/plain": [
       "(-0.5, 255.5, 255.5, -0.5)"
      ]
     },
     "execution_count": 2,
     "metadata": {},
     "output_type": "execute_result"
    },
    {
     "data": {
      "image/png": "[encoded data removed]",
      "text/plain": [
       "<matplotlib.figure.Figure at 0x95bd828>"
      ]
     },
     "metadata": {},
     "output_type": "display_data"
    }
   ],
   "source": [
    "import matplotlib.pyplot as plt\n",
    "import matplotlib.image as mpimg\n",
    "import numpy as np\n",
    "\n",
    "# Read the image (Windows)\n",
    "im = mpimg.imread(r'..\\..\\Data\\harris.png')\n",
    "m, n, C = np.shape(im)\n",
    "# If has 3 or more color channels convert to grayscale\n",
    "if C >= 3:\n",
    "    r, g, b = im[:,:,0], im[:,:,1], im[:,:,2]\n",
    "    im = 0.2126*r + 0.7152*g + 0.0722*b\n",
    "\n",
    "# Show the transformed image in grayscale\n",
    "plt.imshow(im, cmap='gray')\n",
    "plt.axis('off')"
   ]
  },
  {
   "cell_type": "markdown",
   "metadata": {},
   "source": [
    "## References\n",
    "\n",
    "[[1](http://citeseerx.ist.psu.edu/viewdoc/summary?doi=10.1.1.231.1604 \"Harris Corner Detector\")]. _C. Harris and M. Stephens_. A combined corner and edge detector. Proc. of Fourth Alvey Vision Conference. 1998."
   ]
  }
 ],
 "metadata": {
  "kernelspec": {
   "display_name": "Python 2",
   "language": "python",
   "name": "python2"
  },
  "language_info": {
   "codemirror_mode": {
    "name": "ipython",
    "version": 2
   },
   "file_extension": ".py",
   "mimetype": "text/x-python",
   "name": "python",
   "nbconvert_exporter": "python",
   "pygments_lexer": "ipython2",
   "version": "2.7.10"
  }
 },
 "nbformat": 4,
 "nbformat_minor": 0
}
